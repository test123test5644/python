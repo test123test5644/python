
#用apps script 的程式改值.--------------------------A2 1234
import requests

# 替换为你的 Web App URL
url = "https://script.google.com/macros/s/AKfycbzJJI0RqHFuMTBWnsxlfRllo1gzXzfSOTC1zTui3i_B8npTaC2PPBu9FiwQm5Dz-3q7bA/exec"

response = requests.get(url)

if response.status_code == 200:
    print("Apps Script 已成功执行。")
    print(response.text)  # 打印返回的内容，可能是 HTML
else:
    print(f"执行失败，状态码: {response.status_code}")
    print(response.text)  # 打印返回的内容，可能是 HTML
with open("response.html", "w", encoding="utf-8") as f:
    f.write(response.text)
